{
  "nbformat": 4,
  "nbformat_minor": 0,
  "metadata": {
    "colab": {
      "provenance": [],
      "authorship_tag": "ABX9TyM66gPT8YQxyAkftpyt97AL",
      "include_colab_link": true
    },
    "kernelspec": {
      "name": "python3",
      "display_name": "Python 3"
    },
    "language_info": {
      "name": "python"
    }
  },
  "cells": [
    {
      "cell_type": "markdown",
      "metadata": {
        "id": "view-in-github",
        "colab_type": "text"
      },
      "source": [
        "<a href=\"https://colab.research.google.com/github/randimaulana70/Pemerograman-Dasar/blob/main/Latihan%20dan%20Tugas%203.ipynb\" target=\"_parent\"><img src=\"https://colab.research.google.com/assets/colab-badge.svg\" alt=\"Open In Colab\"/></a>"
      ]
    },
    {
      "cell_type": "code",
      "execution_count": 1,
      "metadata": {
        "colab": {
          "base_uri": "https://localhost:8080/"
        },
        "id": "_DWIlc35qhEk",
        "outputId": "b1cca4cc-038b-4915-95e6-7f0847485e1f"
      },
      "outputs": [
        {
          "output_type": "stream",
          "name": "stdout",
          "text": [
            "Masukkan tahun: 2020\n",
            "2020 adalah Tahun Kabisat\n"
          ]
        }
      ],
      "source": [
        "# Fungsi input\n",
        "def input_tahun():\n",
        "  return int(input(\"Masukkan tahun: \"))\n",
        "\n",
        "# Fungsi proses (operasi logika dan aritmatika)\n",
        "def cek_kabisat(tahun):\n",
        "    if (tahun % 4 == 0 and tahun % 100 != 0) or (tahun % 400 == 0):\n",
        "        return True\n",
        "    else:\n",
        "        return False\n",
        "\n",
        "# Input tahun\n",
        "tahun = int(input(\"Masukkan tahun: \"))\n",
        "\n",
        "# Output hasil\n",
        "if cek_kabisat(tahun):\n",
        "    print(f\"{tahun} adalah Tahun Kabisat\")\n",
        "else:\n",
        "    print(f\"{tahun} bukan Tahun Kabisat\")"
      ]
    },
    {
      "cell_type": "code",
      "source": [
        "# Program Kasir Sederhana\n",
        "\n",
        "# Input data belanja\n",
        "items = [50000, 75000, 50000]\n",
        "is_member = True\n",
        "\n",
        "# 1. Hitung subtotal\n",
        "subtotal = sum(items)\n",
        "print (\"Subtotal: Rp\", subtotal)\n",
        "\n",
        "# 2. Evaluasi syarat diskon (member & subtotal > 100000)\n",
        "if is_member and subtotal > 100000:\n",
        "    diskon = 0.15 * subtotal\n",
        "else:\n",
        "    diskon = 0\n",
        "\n",
        "# 3. Hitung harga setelah diskon\n",
        "harga_setelah_diskon = subtotal - diskon\n",
        "\n",
        "# 4. Hitung PPN 11% dari harga setelah diskon\n",
        "ppn = 0.11 * harga_setelah_diskon\n",
        "\n",
        "# 5. Hitung total akhir\n",
        "total_akhir = harga_setelah_diskon + ppn\n",
        "\n",
        "\n",
        "print(f\"Subtotal           : Rp {subtotal}\")\n",
        "print(f\"Diskon             : Rp {diskon}\")\n",
        "print(f\"Harga Setelah Diskon : Rp {harga_setelah_diskon}\")\n",
        "print(f\"PPN (11%)          : Rp {ppn}\")\n",
        "print(f\"TOTAL AKHIR        : Rp {total_akhir}\")"
      ],
      "metadata": {
        "colab": {
          "base_uri": "https://localhost:8080/"
        },
        "id": "xoS5OG8csvXo",
        "outputId": "2d0c97d1-d956-4088-91f1-53d729ab7965"
      },
      "execution_count": 6,
      "outputs": [
        {
          "output_type": "stream",
          "name": "stdout",
          "text": [
            "Subtotal: Rp 175000\n",
            "Subtotal           : Rp 175000\n",
            "Diskon             : Rp 26250.0\n",
            "Harga Setelah Diskon : Rp 148750.0\n",
            "PPN (11%)          : Rp 16362.5\n",
            "TOTAL AKHIR        : Rp 165112.5\n"
          ]
        }
      ]
    }
  ]
}