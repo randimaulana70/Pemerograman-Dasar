{
  "nbformat": 4,
  "nbformat_minor": 0,
  "metadata": {
    "colab": {
      "provenance": [],
      "authorship_tag": "ABX9TyM9q9zqmcbRBXlzQoz6eKm6",
      "include_colab_link": true
    },
    "kernelspec": {
      "name": "python3",
      "display_name": "Python 3"
    },
    "language_info": {
      "name": "python"
    }
  },
  "cells": [
    {
      "cell_type": "markdown",
      "metadata": {
        "id": "view-in-github",
        "colab_type": "text"
      },
      "source": [
        "<a href=\"https://colab.research.google.com/github/randimaulana70/Pemerograman-Dasar/blob/main/PRAKTIKUM%203.ipynb\" target=\"_parent\"><img src=\"https://colab.research.google.com/assets/colab-badge.svg\" alt=\"Open In Colab\"/></a>"
      ]
    },
    {
      "cell_type": "code",
      "execution_count": null,
      "metadata": {
        "id": "7vW8qMyr5gO8",
        "colab": {
          "base_uri": "https://localhost:8080/"
        },
        "outputId": "5af4b4c9-9a05-4728-9a40-cb29f06a5d46"
      },
      "outputs": [
        {
          "name": "stdout",
          "output_type": "stream",
          "text": [
            "Berapa porsi makan yang Anda beli? : 2\n",
            "Siapa Nama Pelanggan ? : Randi\n"
          ]
        }
      ],
      "source": [
        "total = input(\"Berapa porsi makan yang Anda beli? : \")\n",
        "Nama = input(\"Siapa Nama Pelanggan ? : \")"
      ]
    },
    {
      "cell_type": "code",
      "source": [
        "total = int (input(\"Berapa porsi makan yang Anda beli? : \"))\n",
        "Nama = str (input(\"Siapa Nama Pelanggan ? : \"))"
      ],
      "metadata": {
        "colab": {
          "base_uri": "https://localhost:8080/"
        },
        "id": "CTz4KaHK9U1y",
        "outputId": "748f8ee1-1cab-4f20-e04d-960912910af5"
      },
      "execution_count": null,
      "outputs": [
        {
          "name": "stdout",
          "output_type": "stream",
          "text": [
            "Berapa porsi makan yang Anda beli? : 1\n",
            "Siapa Nama Pelanggan ? : Randi\n"
          ]
        }
      ]
    },
    {
      "cell_type": "code",
      "source": [
        "total = float(input(\"Berapa porsi makan yang Anda beli? : \"))\n",
        "Nama = str(input(\"Siapa Nama Pelanggan ? : \"))\n",
        "\n",
        "print(\"Nama Pelanggan :\", Nama)\n",
        "print(\"Jumlah Porsi   :\", total)"
      ],
      "metadata": {
        "colab": {
          "base_uri": "https://localhost:8080/"
        },
        "id": "p6YvW1w58R-l",
        "outputId": "e887217c-5d12-484e-a3f5-005573c74c5f"
      },
      "execution_count": null,
      "outputs": [
        {
          "output_type": "stream",
          "name": "stdout",
          "text": [
            "Berapa porsi makan yang Anda beli? : 2\n",
            "Siapa Nama Pelanggan ? : Randi\n",
            "Nama Pelanggan : Randi\n",
            "Jumlah Porsi   : 2.0\n"
          ]
        }
      ]
    },
    {
      "cell_type": "code",
      "source": [
        "food = \"Mi ayam bakso\"\n",
        "print(\"Randi sedang memesan\", food)"
      ],
      "metadata": {
        "colab": {
          "base_uri": "https://localhost:8080/"
        },
        "id": "y2fhJKMB_JUY",
        "outputId": "ce250dd6-9cd1-4d49-96cf-c7496534c23b"
      },
      "execution_count": 33,
      "outputs": [
        {
          "output_type": "stream",
          "name": "stdout",
          "text": [
            "Randi sedang memesan Mi ayam bakso\n"
          ]
        }
      ]
    },
    {
      "cell_type": "code",
      "source": [
        "food = \"Mi ayam bakso\"\n",
        "print(\"Randi sedang memesan\", food)\n",
        "print(\"Randi sedang memesan \"+ food)\n",
        "print(\"Randi sedang memesan %s\" % (food))"
      ],
      "metadata": {
        "id": "EL5YYgA__lib",
        "colab": {
          "base_uri": "https://localhost:8080/"
        },
        "outputId": "7e15c054-6079-4245-81e1-6fb22eec4266"
      },
      "execution_count": 32,
      "outputs": [
        {
          "output_type": "stream",
          "name": "stdout",
          "text": [
            "Randi sedang memesan Mi ayam bakso\n",
            "Randi sedang memesan Mi ayam bakso\n",
            "Randi sedang memesan Mi ayam bakso\n"
          ]
        }
      ]
    },
    {
      "cell_type": "code",
      "source": [
        "a = 20\n",
        "b = 5\n",
        "print(\"Penjumlahan:\", a + b)\n",
        "print(\"Pengurangan:\", a - b)\n",
        "print(\"Perkalian:\", a * b)\n",
        "print(\"Pembagian:\", a / b)"
      ],
      "metadata": {
        "colab": {
          "base_uri": "https://localhost:8080/"
        },
        "id": "KY8L7IXkUy5_",
        "outputId": "49590eb4-9e92-4da8-b019-057634988a55"
      },
      "execution_count": 4,
      "outputs": [
        {
          "output_type": "stream",
          "name": "stdout",
          "text": [
            "Penjumlahan: 25\n",
            "Pengurangan: 15\n",
            "Perkalian: 100\n",
            "Pembagian: 4.0\n"
          ]
        }
      ]
    },
    {
      "cell_type": "code",
      "source": [
        "bilangan = 8\n",
        "hasil = (bilangan > 0) and (bilangan % 2 == 0)\n",
        "print(\"Genap dan positif?\", hasil)"
      ],
      "metadata": {
        "colab": {
          "base_uri": "https://localhost:8080/"
        },
        "id": "DzQC-CyBVuue",
        "outputId": "4b35b03d-3af0-44bc-d9d9-ec27f0bb9963"
      },
      "execution_count": 6,
      "outputs": [
        {
          "output_type": "stream",
          "name": "stdout",
          "text": [
            "Genap dan positif? True\n"
          ]
        }
      ]
    },
    {
      "cell_type": "code",
      "source": [
        "harga_makan = int(input(\"Berapa harga mi ayam per porsi? \"))\n",
        "jumlah_makan = int(input(\"Berapa porsi yang Anda beli? \"))\n",
        "total_makan = harga_makan * jumlah_makan\n",
        "\n",
        "print(f\"Harga makan per porsi = {harga_makan}, totalnya adalah {total_makan}\")"
      ],
      "metadata": {
        "colab": {
          "base_uri": "https://localhost:8080/"
        },
        "id": "bD9WSs7DWKGw",
        "outputId": "763115df-6451-4f85-8d59-c38b953b54e6"
      },
      "execution_count": 8,
      "outputs": [
        {
          "output_type": "stream",
          "name": "stdout",
          "text": [
            "Berapa harga mi ayam per porsi? 18000\n",
            "Berapa porsi yang Anda beli? 1\n",
            "Harga makan per porsi = 18000, totalnya adalah 18000\n"
          ]
        }
      ]
    },
    {
      "cell_type": "code",
      "source": [
        "#konversi waktu\n",
        "total_detik = int(input(\"Masukkan total detik: \"))\n",
        "jam = total_detik // 3600\n",
        "sisa_detik = total_detik % 3600\n",
        "menit = sisa_detik // 60\n",
        "detik = sisa_detik % 60\n",
        "\n",
        "print(f\"Hasil Konversi: {jam} Jam, {menit} Menit, {detik} Detik\")"
      ],
      "metadata": {
        "colab": {
          "base_uri": "https://localhost:8080/"
        },
        "id": "sA0rgDtCWw7O",
        "outputId": "8054c893-e79d-4bd6-e59a-ddd86d97d39e"
      },
      "execution_count": 13,
      "outputs": [
        {
          "output_type": "stream",
          "name": "stdout",
          "text": [
            "Masukkan total detik: 358200\n",
            "Hasil Konversi: 99 Jam, 30 Menit, 0 Detik\n"
          ]
        }
      ]
    },
    {
      "cell_type": "code",
      "source": [
        "tugas = 80\n",
        "uts = 70\n",
        "uas = 70\n",
        "nilai_akhir = (0.3 * tugas) + (0.3 * uts) + (0.4 * uas)\n",
        "print(\"Nilai akhir =\", nilai_akhir)"
      ],
      "metadata": {
        "colab": {
          "base_uri": "https://localhost:8080/"
        },
        "id": "Brl3GJgoXV7f",
        "outputId": "6ebb9673-df18-44db-ee05-8232b6ac0880"
      },
      "execution_count": 12,
      "outputs": [
        {
          "output_type": "stream",
          "name": "stdout",
          "text": [
            "Nilai akhir = 73.0\n"
          ]
        }
      ]
    },
    {
      "cell_type": "code",
      "source": [
        "tugas = float(input(\"Masukkan nilai Tugas: \"))\n",
        "uts = float(input(\"Masukkan nilai UTS: \"))\n",
        "uas = float(input(\"Masukkan nilai UAS: \"))\n",
        "\n",
        "nilai_mahasiswa = (0.3 * tugas) + (0.3 * uts) + (0.4 * uas)\n",
        "standar_kelulusan = float(input(\"Masukkan standar kelulusan: \"))\n",
        "apakah_lulus = nilai_mahasiswa >= standar_kelulusan\n",
        "perlu_remedial = nilai_mahasiswa < standar_kelulusan\n",
        "\n",
        "# Output hasil\n",
        "print(\"\\n=== HASIL PENILAIAN ===\")\n",
        "print(f\"Nilai Mahasiswa : {nilai_mahasiswa:.2f}\")\n",
        "print(f\"Standar Kelulusan : {standar_kelulusan}\")\n",
        "print(f\"Apakah Mahasiswa Lulus? {apakah_lulus}\")\n",
        "print(f\"Perlu Remedial? {perlu_remedial}\")"
      ],
      "metadata": {
        "colab": {
          "base_uri": "https://localhost:8080/"
        },
        "id": "5OawdG3fXr7C",
        "outputId": "306d4eb6-99f0-4713-ae0d-589c0261b6a4"
      },
      "execution_count": 18,
      "outputs": [
        {
          "output_type": "stream",
          "name": "stdout",
          "text": [
            "Masukkan nilai Tugas: 80\n",
            "Masukkan nilai UTS: 70\n",
            "Masukkan nilai UAS: 90\n",
            "Masukkan standar kelulusan: 80\n",
            "\n",
            "=== HASIL PENILAIAN ===\n",
            "Nilai Mahasiswa : 81.00\n",
            "Standar Kelulusan : 80.0\n",
            "Apakah Mahasiswa Lulus? True\n",
            "Perlu Remedial? False\n"
          ]
        }
      ]
    },
    {
      "cell_type": "code",
      "source": [
        "belanja = int(input(\"Masukkan total belanja: \"))\n",
        "if belanja > 1000000:\n",
        "    diskon = 0.35 * belanja\n",
        "total_harga = belanja - diskon\n",
        "\n",
        "print(f\"Total belanja = Rp {belanja}\")\n",
        "print(f\"Diskon = Rp {diskon}\")\n",
        "print(f\"Total harga setelah diskon = Rp {total_harga}\")"
      ],
      "metadata": {
        "colab": {
          "base_uri": "https://localhost:8080/"
        },
        "id": "ftEAgKNCdQsQ",
        "outputId": "304ee3cf-6388-45b3-df7e-31a51c3a67b3"
      },
      "execution_count": 31,
      "outputs": [
        {
          "output_type": "stream",
          "name": "stdout",
          "text": [
            "Masukkan total belanja: 1500000\n",
            "Total belanja = Rp 1500000\n",
            "Diskon = Rp 525000.0\n",
            "Total harga setelah diskon = Rp 975000.0\n"
          ]
        }
      ]
    }
  ]
}