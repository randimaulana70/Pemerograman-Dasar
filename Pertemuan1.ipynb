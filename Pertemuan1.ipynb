{
  "nbformat": 4,
  "nbformat_minor": 0,
  "metadata": {
    "colab": {
      "provenance": [],
      "authorship_tag": "ABX9TyPflGBVYolf9VjA/NgMoO5+",
      "include_colab_link": true
    },
    "kernelspec": {
      "name": "python3",
      "display_name": "Python 3"
    },
    "language_info": {
      "name": "python"
    }
  },
  "cells": [
    {
      "cell_type": "markdown",
      "metadata": {
        "id": "view-in-github",
        "colab_type": "text"
      },
      "source": [
        "<a href=\"https://colab.research.google.com/github/randimaulana70/Pemerograman-Dasar/blob/main/Pertemuan1.ipynb\" target=\"_parent\"><img src=\"https://colab.research.google.com/assets/colab-badge.svg\" alt=\"Open In Colab\"/></a>"
      ]
    },
    {
      "cell_type": "code",
      "execution_count": 2,
      "metadata": {
        "id": "E7Qrh1Pr7XXi",
        "colab": {
          "base_uri": "https://localhost:8080/"
        },
        "outputId": "5708ddfc-57db-4b20-9e3a-7eb004e4d6b6"
      },
      "outputs": [
        {
          "output_type": "stream",
          "name": "stdout",
          "text": [
            "RPE\n"
          ]
        }
      ],
      "source": [
        "print (\"RPE\")"
      ]
    }
  ]
}